{
 "cells": [
  {
   "cell_type": "markdown",
   "id": "harmful-crossing",
   "metadata": {},
   "source": [
    "## This notebook is for pulling the data to make a prediction for a particular stock ticker\n",
    "\n",
    "Note: We will have to apply the transformation to add the particular columns needed."
   ]
  },
  {
   "cell_type": "code",
   "execution_count": 1,
   "id": "discrete-wichita",
   "metadata": {},
   "outputs": [],
   "source": [
    "%config Completer.use_jedi = False"
   ]
  },
  {
   "cell_type": "code",
   "execution_count": 2,
   "id": "reserved-farming",
   "metadata": {},
   "outputs": [],
   "source": [
    "import requests\n",
    "from bs4 import BeautifulSoup\n",
    "import pandas as pd\n",
    "import numpy as np\n",
    "from joblib import load"
   ]
  },
  {
   "cell_type": "code",
   "execution_count": 3,
   "id": "impressed-camping",
   "metadata": {},
   "outputs": [],
   "source": [
    "def HighLowVolatility(df):\n",
    "    \"\"\"\n",
    "    Define High-Low Volatility as (High-Low)/High*100 (percentage)\n",
    "    And add this column.\n",
    "    \"\"\"\n",
    "    \n",
    "    df['HighLowVolatility'] = 0 # Placeholder\n",
    "    \n",
    "    for i in range(len(df)):\n",
    "        df.loc[i, 'HighLowVolatility'] = (df.loc[i, 'High'] - df.loc[i, 'Low'])/df.loc[i, 'High']\n",
    "        \n",
    "    return df\n",
    "\n",
    "def HighOpenVolatility(df):\n",
    "    \"\"\"\n",
    "    The difference of a day's high-open proportion.\n",
    "    \"\"\"\n",
    "    \n",
    "    df['HighOpenVolatility'] = (df['High'] - df['Open'])/df['Open']\n",
    "        \n",
    "    return df\n",
    "        \n",
    "\n",
    "def AvgHighLowVolatility(df, num_days=10):\n",
    "    \"\"\"\n",
    "    Calculate the average HighLowVolatility for the past\n",
    "    num_days days. Can specify num_days, which I will default to 10.\n",
    "    \"\"\"\n",
    "    df[f'AvgHighLowVolatility_{num_days}'] = 0 # Placeholder\n",
    "    \n",
    "    for i in range(num_days, df.shape[0]):\n",
    "        prev_high_low_vols = df.loc[i-num_days:i, 'HighLowVolatility']\n",
    "        df.loc[i, f'AvgHighLowVolatility_{num_days}'] = prev_high_low_vols.mean()        \n",
    "    return df\n",
    "\n",
    "def AvgHighLowVolatilityRecursion(df, list_of_num_days):\n",
    "    \"\"\"\n",
    "    Run AvgHighLowVolatility\n",
    "    for all of the given days in list_of_num_days.\n",
    "    \"\"\"\n",
    "    \n",
    "    for num_days in list_of_num_days:\n",
    "        df = AvgHighLowVolatility(df, num_days)\n",
    "        \n",
    "    return df  \n",
    "\n",
    "\n",
    "\n",
    "list_of_num_days = [3, 7, 10]\n",
    "\n",
    "def add_columns(df):\n",
    "    df = HighLowVolatility(df)\n",
    "    df = HighOpenVolatility(df)\n",
    "    df = AvgHighLowVolatilityRecursion(df, list_of_num_days)\n",
    "    \n",
    "    return df"
   ]
  },
  {
   "cell_type": "code",
   "execution_count": 4,
   "id": "hollow-oasis",
   "metadata": {},
   "outputs": [],
   "source": [
    "# Pull the data from the website\n",
    "\n",
    "def get_ticker_data(ticker):\n",
    "    columns = ['Date', 'Open', 'High', 'Low', 'Close', 'Volume']\n",
    "    \n",
    "    temp_df = pd.DataFrame(columns=columns)\n",
    "    \n",
    "    url = f'https://finance.yahoo.com/quote/{ticker}/history?p={ticker}'\n",
    "    \n",
    "    html = requests.get(url).text\n",
    "    soup = BeautifulSoup(html, 'lxml')\n",
    "    tables = soup.find_all('tr', attrs={'class': \"BdT Bdc($seperatorColor) Ta(end) Fz(s) Whs(nw)\"})\n",
    "    \n",
    "    for i in range(10, -1, -1):\n",
    "        curr_table = tables[i]\n",
    "        curr_data = [x.text for x in curr_table]\n",
    "        if '-' in curr_data:\n",
    "            return\n",
    "        if len(curr_data) != 7:\n",
    "            return                        \n",
    "        curr_data.pop(5)\n",
    "        \n",
    "        # Change str values to floats/ints.\n",
    "        for j in range(1,5):\n",
    "\n",
    "            curr_data[j] = float(curr_data[j].replace(',', ''))\n",
    "\n",
    "        curr_data[5] = curr_data[5].replace(',', '')\n",
    "        try:\n",
    "            curr_data[5] = int(curr_data[5])\n",
    "        except ValueError:\n",
    "            continue\n",
    "            \n",
    "        temp_df.loc[temp_df.shape[0]] = curr_data\n",
    "        \n",
    "    temp_df = temp_df.iloc[::-1]\n",
    "    \n",
    "    temp_df.reset_index(inplace=True, drop=True)\n",
    "    \n",
    "    return temp_df\n",
    "\n"
   ]
  },
  {
   "cell_type": "code",
   "execution_count": 5,
   "id": "egyptian-smith",
   "metadata": {},
   "outputs": [],
   "source": [
    "def combine_for_results(ticker, prob=0.535):\n",
    "    \"\"\"\n",
    "    Because of how the model works, it is advised\n",
    "    to not use a probability exceeding 0.55, as there\n",
    "    are not many tickers that output this probability.\n",
    "    \"\"\"\n",
    "    df = get_ticker_data(ticker) # Got the ticker data\n",
    "    try:\n",
    "        new_df = add_columns(df).drop('Date', axis=1) # Add the cols and drop the date\n",
    "\n",
    "        data_to_plug_in = new_df.loc[new_df.shape[0]-1] # get the correct data\n",
    "\n",
    "        pred_prob = model.predict_proba([data_to_plug_in])[0][1]\n",
    "\n",
    "        if pred_prob < prob:\n",
    "            pred = 'No'\n",
    "        else:\n",
    "            pred = 'Yes'\n",
    "\n",
    "        return pred, pred_prob\n",
    "    except (TypeError, AttributeError):\n",
    "        return 0, 0\n",
    "        "
   ]
  },
  {
   "cell_type": "code",
   "execution_count": 6,
   "id": "pediatric-union",
   "metadata": {},
   "outputs": [],
   "source": [
    "health_care_tickers = pd.read_csv('HealthCareTickers.csv')\n",
    "\n",
    "list_of_health_care_tickers = health_care_tickers['0'].tolist()"
   ]
  },
  {
   "cell_type": "code",
   "execution_count": 7,
   "id": "absent-proof",
   "metadata": {},
   "outputs": [],
   "source": [
    "model = load('FinalStockModelHealth.joblib')"
   ]
  },
  {
   "cell_type": "code",
   "execution_count": 8,
   "id": "former-amateur",
   "metadata": {},
   "outputs": [],
   "source": [
    "list_of_ticks_to_buy = []\n",
    "\n",
    "for tick in list_of_health_care_tickers:\n",
    "    pred, prob_yes = combine_for_results(tick)\n",
    "    if pred == 'Yes':\n",
    "        list_of_ticks_to_buy.append((tick, prob_yes))\n",
    "        \n",
    "sorted_list = sorted(list_of_ticks_to_buy, key=lambda x: x[1], reverse=True)\n",
    "sorted_list_series = pd.Series(data=sorted_list)\n",
    "\n",
    "sorted_list_series.to_csv('March3BuysHealthCare.csv')"
   ]
  }
 ],
 "metadata": {
  "kernelspec": {
   "display_name": "Python py3TF2",
   "language": "python",
   "name": "py3tf2"
  },
  "language_info": {
   "codemirror_mode": {
    "name": "ipython",
    "version": 3
   },
   "file_extension": ".py",
   "mimetype": "text/x-python",
   "name": "python",
   "nbconvert_exporter": "python",
   "pygments_lexer": "ipython3",
   "version": "3.8.5"
  }
 },
 "nbformat": 4,
 "nbformat_minor": 5
}
