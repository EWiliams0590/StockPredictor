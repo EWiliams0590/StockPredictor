{
 "cells": [
  {
   "cell_type": "markdown",
   "id": "intellectual-sweden",
   "metadata": {},
   "source": [
    "# This notebook will be implementing the following task:\n",
    "\n",
    "### Create a predictor on stock whether the next day's high value will be > 0.05 (5%) than it's opening price.\n",
    "\n",
    "The simple idea: If we can predict with >= 50% accuracy whether a stock price will rise at least 5% above it's opening price, then we can compute the probability, given a \"YES\" with this model, will it rise at least 0.02 (2%) above it's opening price at some point during the day.\n",
    "\n",
    "Letting mu represent the mean of the difference of the next day's high price and opening price over all the data and mu_yes be the same mean difference over the data the model predicts a \"YES\" for at least a 5% boost, I hope to see a statistically significant improvement of mu_yes over mu.\n",
    "    \n",
    "To build the model, the data obtained is from the stocks priced $10-$50 per share over the course of the past year in the fields of biotech, pharma, entertainment, and various technologies. To begin, we will import the data, which is previously cleaned, then make a function to create data that will be useful to analyze patterns, as the data imported is just the Date, Open, High, Low, Close, and Volume for that day.\n",
    "\n",
    "The initial model we choose to use will be LogisiticRegression since it can output probabilities and coefficients, making it easily interpretable."
   ]
  },
  {
   "cell_type": "code",
   "execution_count": 3,
   "id": "thousand-process",
   "metadata": {},
   "outputs": [],
   "source": [
    "%config Completer.use_jedi = False"
   ]
  },
  {
   "cell_type": "code",
   "execution_count": 13,
   "id": "norman-orchestra",
   "metadata": {},
   "outputs": [],
   "source": [
    "import pandas as pd\n",
    "import numpy as np\n",
    "import seaborn as sns\n",
    "import matplotlib.pyplot as plt\n",
    "from sklearn.model_selection import train_test_split, GridSearchCV\n",
    "from sklearn.preprocessing import StandardScaler\n",
    "from sklearn.pipeline import Pipeline\n",
    "from sklearn.linear_model import LogisticRegression\n",
    "from sklearn.metrics import classification_report, plot_confusion_matrix\n",
    "import scipy\n",
    "from joblib import dump, load"
   ]
  },
  {
   "cell_type": "code",
   "execution_count": 5,
   "id": "danish-saver",
   "metadata": {},
   "outputs": [],
   "source": [
    "df = pd.read_csv('HealthcareStockFeb2021.csv')"
   ]
  },
  {
   "cell_type": "code",
   "execution_count": 6,
   "id": "grand-controversy",
   "metadata": {},
   "outputs": [],
   "source": [
    "df.drop('Unnamed: 0', axis=1, inplace=True)"
   ]
  },
  {
   "cell_type": "code",
   "execution_count": 7,
   "id": "fatty-delta",
   "metadata": {},
   "outputs": [
    {
     "data": {
      "text/html": [
       "<div>\n",
       "<style scoped>\n",
       "    .dataframe tbody tr th:only-of-type {\n",
       "        vertical-align: middle;\n",
       "    }\n",
       "\n",
       "    .dataframe tbody tr th {\n",
       "        vertical-align: top;\n",
       "    }\n",
       "\n",
       "    .dataframe thead th {\n",
       "        text-align: right;\n",
       "    }\n",
       "</style>\n",
       "<table border=\"1\" class=\"dataframe\">\n",
       "  <thead>\n",
       "    <tr style=\"text-align: right;\">\n",
       "      <th></th>\n",
       "      <th>Date</th>\n",
       "      <th>Open</th>\n",
       "      <th>High</th>\n",
       "      <th>Low</th>\n",
       "      <th>Close</th>\n",
       "      <th>Volume</th>\n",
       "      <th>Ticker</th>\n",
       "    </tr>\n",
       "  </thead>\n",
       "  <tbody>\n",
       "    <tr>\n",
       "      <th>0</th>\n",
       "      <td>Dec 11, 2020</td>\n",
       "      <td>61.00</td>\n",
       "      <td>71.91</td>\n",
       "      <td>48.98</td>\n",
       "      <td>58.90</td>\n",
       "      <td>9249200</td>\n",
       "      <td>ABCL</td>\n",
       "    </tr>\n",
       "    <tr>\n",
       "      <th>1</th>\n",
       "      <td>Dec 14, 2020</td>\n",
       "      <td>56.93</td>\n",
       "      <td>60.69</td>\n",
       "      <td>50.00</td>\n",
       "      <td>50.01</td>\n",
       "      <td>1487300</td>\n",
       "      <td>ABCL</td>\n",
       "    </tr>\n",
       "    <tr>\n",
       "      <th>2</th>\n",
       "      <td>Dec 15, 2020</td>\n",
       "      <td>50.81</td>\n",
       "      <td>52.21</td>\n",
       "      <td>45.26</td>\n",
       "      <td>46.99</td>\n",
       "      <td>3958000</td>\n",
       "      <td>ABCL</td>\n",
       "    </tr>\n",
       "    <tr>\n",
       "      <th>3</th>\n",
       "      <td>Dec 16, 2020</td>\n",
       "      <td>47.13</td>\n",
       "      <td>49.73</td>\n",
       "      <td>42.15</td>\n",
       "      <td>47.53</td>\n",
       "      <td>1688700</td>\n",
       "      <td>ABCL</td>\n",
       "    </tr>\n",
       "    <tr>\n",
       "      <th>4</th>\n",
       "      <td>Dec 17, 2020</td>\n",
       "      <td>48.54</td>\n",
       "      <td>50.50</td>\n",
       "      <td>48.14</td>\n",
       "      <td>48.60</td>\n",
       "      <td>636300</td>\n",
       "      <td>ABCL</td>\n",
       "    </tr>\n",
       "  </tbody>\n",
       "</table>\n",
       "</div>"
      ],
      "text/plain": [
       "           Date   Open   High    Low  Close   Volume Ticker\n",
       "0  Dec 11, 2020  61.00  71.91  48.98  58.90  9249200   ABCL\n",
       "1  Dec 14, 2020  56.93  60.69  50.00  50.01  1487300   ABCL\n",
       "2  Dec 15, 2020  50.81  52.21  45.26  46.99  3958000   ABCL\n",
       "3  Dec 16, 2020  47.13  49.73  42.15  47.53  1688700   ABCL\n",
       "4  Dec 17, 2020  48.54  50.50  48.14  48.60   636300   ABCL"
      ]
     },
     "execution_count": 7,
     "metadata": {},
     "output_type": "execute_result"
    }
   ],
   "source": [
    "df.head()"
   ]
  },
  {
   "cell_type": "code",
   "execution_count": 8,
   "id": "living-robert",
   "metadata": {},
   "outputs": [
    {
     "name": "stdout",
     "output_type": "stream",
     "text": [
      "<class 'pandas.core.frame.DataFrame'>\n",
      "RangeIndex: 39987 entries, 0 to 39986\n",
      "Data columns (total 7 columns):\n",
      " #   Column  Non-Null Count  Dtype  \n",
      "---  ------  --------------  -----  \n",
      " 0   Date    39987 non-null  object \n",
      " 1   Open    39987 non-null  float64\n",
      " 2   High    39987 non-null  float64\n",
      " 3   Low     39987 non-null  float64\n",
      " 4   Close   39987 non-null  float64\n",
      " 5   Volume  39987 non-null  int64  \n",
      " 6   Ticker  39987 non-null  object \n",
      "dtypes: float64(4), int64(1), object(2)\n",
      "memory usage: 2.1+ MB\n"
     ]
    }
   ],
   "source": [
    "df.info()"
   ]
  },
  {
   "cell_type": "code",
   "execution_count": 284,
   "id": "pregnant-yellow",
   "metadata": {},
   "outputs": [],
   "source": [
    "def HighLowVolatility(df):\n",
    "    \"\"\"\n",
    "    Define High-Low Volatility as (High-Low)/High*100 (percentage)\n",
    "    And add this column.\n",
    "    \"\"\"\n",
    "    \n",
    "    df['HighLowVolatility'] = 0 # Placeholder\n",
    "    \n",
    "    for i in range(len(df)):\n",
    "        df.loc[i, 'HighLowVolatility'] = (df.loc[i, 'High'] - df.loc[i, 'Low'])/df.loc[i, 'High']\n",
    "        \n",
    "    return df\n",
    "\n",
    "def HighOpenVolatility(df):\n",
    "    \"\"\"\n",
    "    The difference of a day's high-open proportion.\n",
    "    \"\"\"\n",
    "    \n",
    "    df['HighOpenVolatility'] = (df['High'] - df['Open'])/df['Open']\n",
    "        \n",
    "    return df\n",
    "        \n",
    "\n",
    "def AvgHighLowVolatility(df, num_days=10):\n",
    "    \"\"\"\n",
    "    Calculate the average HighLowVolatility for the past\n",
    "    num_days days. Can specify num_days, which I will default to 10.\n",
    "    \"\"\"\n",
    "    df[f'AvgHighLowVolatility_{num_days}'] = 0 # Placeholder\n",
    "    \n",
    "    for i in range(num_days, df.shape[0]):\n",
    "        prev_high_low_vols = df.loc[i-num_days:i, 'HighLowVolatility']\n",
    "        df.loc[i, f'AvgHighLowVolatility_{num_days}'] = prev_high_low_vols.mean()        \n",
    "    return df\n",
    "\n",
    "def AvgHighLowVolatilityRecursion(df, list_of_num_days):\n",
    "    \"\"\"\n",
    "    Run AvgHighLowVolatility\n",
    "    for all of the given days in list_of_num_days.\n",
    "    \"\"\"\n",
    "    \n",
    "    for num_days in list_of_num_days:\n",
    "        df = AvgHighLowVolatility(df, num_days)\n",
    "        \n",
    "    return df\n",
    "\n",
    "\n",
    "def NextDayHighMinusOpen(df):\n",
    "    \"\"\"\n",
    "    Create column for the next day's highminusopen.\n",
    "    Leave current day as 0.\n",
    "    \"\"\"\n",
    "    \n",
    "    df['NextDayHighMinusOpen'] = 0 # Placeholder\n",
    "    \n",
    "    for i in range(len(df)-1):\n",
    "        df.loc[i, 'NextDayHighMinusOpen'] = df.loc[i+1, 'HighOpenVolatility']\n",
    "        \n",
    "    return df\n",
    "\n",
    "\n",
    "def Target(df, threshold=0.03):\n",
    "    \"\"\"\n",
    "    Binary target column depending on NextDayHighMinusOpen.\n",
    "    I will default the threshold to 0.05\n",
    "    \"\"\"\n",
    "    df['Target'] = 0 # Placeholder\n",
    "\n",
    "    for i in range(df.shape[0]):\n",
    "        curr = df.loc[i, 'NextDayHighMinusOpen']\n",
    "        if curr >= threshold:\n",
    "            df.loc[i, 'Target'] = 1\n",
    "        else:\n",
    "            df.loc[i, 'Target'] = 0\n",
    "            \n",
    "    return df\n",
    "   \n",
    "\n",
    "    \n",
    "def RemoveZeroCols(df, list_of_num_days):\n",
    "    \"\"\"\n",
    "    Remove the cols with zeros defaulted above.\n",
    "    \"\"\"\n",
    "    zero_cols = ['NextDayHighMinusOpen']\n",
    "    \n",
    "    for num_days in list_of_num_days:\n",
    "        zero_cols.append(f'AvgHighLowVolatility_{num_days}')\n",
    "\n",
    "    zero_df = df[zero_cols]\n",
    "\n",
    "    idx = []\n",
    "\n",
    "    for i in range(zero_df.shape[0]):\n",
    "        if True in zero_df.iloc[i].isin([0]).unique():\n",
    "            idx.append(i)\n",
    "            \n",
    "    df = df.drop(idx, axis=0)    \n",
    "    return df\n",
    "\n",
    "# Compose the functions below\n",
    "import functools\n",
    "\n",
    "\n",
    "list_of_num_days = [3, 7, 10]\n",
    "\n",
    "def add_columns(df):\n",
    "    df = HighLowVolatility(df)\n",
    "    df = HighOpenVolatility(df)\n",
    "    df = AvgHighLowVolatilityRecursion(df, list_of_num_days)\n",
    "    df = NextDayHighMinusOpen(df)\n",
    "    df = Target(df)\n",
    "    df = RemoveZeroCols(df, list_of_num_days)\n",
    "    \n",
    "    return df"
   ]
  },
  {
   "cell_type": "code",
   "execution_count": 285,
   "id": "administrative-division",
   "metadata": {},
   "outputs": [
    {
     "name": "stderr",
     "output_type": "stream",
     "text": [
      "<ipython-input-284-97545996abbc>:7: SettingWithCopyWarning: \n",
      "A value is trying to be set on a copy of a slice from a DataFrame.\n",
      "Try using .loc[row_indexer,col_indexer] = value instead\n",
      "\n",
      "See the caveats in the documentation: https://pandas.pydata.org/pandas-docs/stable/user_guide/indexing.html#returning-a-view-versus-a-copy\n",
      "  df['HighLowVolatility'] = 0 # Placeholder\n",
      "C:\\Users\\Ethan\\anaconda3\\envs\\py3TF2\\lib\\site-packages\\pandas\\core\\indexing.py:1719: SettingWithCopyWarning: \n",
      "A value is trying to be set on a copy of a slice from a DataFrame.\n",
      "Try using .loc[row_indexer,col_indexer] = value instead\n",
      "\n",
      "See the caveats in the documentation: https://pandas.pydata.org/pandas-docs/stable/user_guide/indexing.html#returning-a-view-versus-a-copy\n",
      "  self._setitem_single_column(loc, value, pi)\n",
      "<ipython-input-284-97545996abbc>:19: SettingWithCopyWarning: \n",
      "A value is trying to be set on a copy of a slice from a DataFrame.\n",
      "Try using .loc[row_indexer,col_indexer] = value instead\n",
      "\n",
      "See the caveats in the documentation: https://pandas.pydata.org/pandas-docs/stable/user_guide/indexing.html#returning-a-view-versus-a-copy\n",
      "  df['HighOpenVolatility'] = (df['High'] - df['Open'])/df['Open']\n",
      "<ipython-input-284-97545996abbc>:29: SettingWithCopyWarning: \n",
      "A value is trying to be set on a copy of a slice from a DataFrame.\n",
      "Try using .loc[row_indexer,col_indexer] = value instead\n",
      "\n",
      "See the caveats in the documentation: https://pandas.pydata.org/pandas-docs/stable/user_guide/indexing.html#returning-a-view-versus-a-copy\n",
      "  df[f'AvgHighLowVolatility_{num_days}'] = 0 # Placeholder\n",
      "<ipython-input-284-97545996abbc>:54: SettingWithCopyWarning: \n",
      "A value is trying to be set on a copy of a slice from a DataFrame.\n",
      "Try using .loc[row_indexer,col_indexer] = value instead\n",
      "\n",
      "See the caveats in the documentation: https://pandas.pydata.org/pandas-docs/stable/user_guide/indexing.html#returning-a-view-versus-a-copy\n",
      "  df['NextDayHighMinusOpen'] = 0 # Placeholder\n",
      "<ipython-input-284-97545996abbc>:67: SettingWithCopyWarning: \n",
      "A value is trying to be set on a copy of a slice from a DataFrame.\n",
      "Try using .loc[row_indexer,col_indexer] = value instead\n",
      "\n",
      "See the caveats in the documentation: https://pandas.pydata.org/pandas-docs/stable/user_guide/indexing.html#returning-a-view-versus-a-copy\n",
      "  df['Target'] = 0 # Placeholder\n"
     ]
    }
   ],
   "source": [
    "# Apply the above change on a per-ticker basis\n",
    "\n",
    "tickers = df['Ticker'].unique() # List of tickers\n",
    "df_copy = df.copy()\n",
    "final_df = pd.DataFrame(columns=df.columns) # Recreate new final df with new columns\n",
    "\n",
    "for ticker in tickers:\n",
    "    temp_df = df_copy[df_copy['Ticker']==ticker] # temp ticker\n",
    "    temp_df.reset_index(inplace=True, drop=True)\n",
    "    temp_df = add_columns(temp_df) # Transform\n",
    "    final_df = final_df.append(temp_df)\n",
    "\n",
    "final_df.reset_index(drop=True, inplace=True)"
   ]
  },
  {
   "cell_type": "code",
   "execution_count": 286,
   "id": "latin-atmosphere",
   "metadata": {},
   "outputs": [
    {
     "data": {
      "text/html": [
       "<div>\n",
       "<style scoped>\n",
       "    .dataframe tbody tr th:only-of-type {\n",
       "        vertical-align: middle;\n",
       "    }\n",
       "\n",
       "    .dataframe tbody tr th {\n",
       "        vertical-align: top;\n",
       "    }\n",
       "\n",
       "    .dataframe thead th {\n",
       "        text-align: right;\n",
       "    }\n",
       "</style>\n",
       "<table border=\"1\" class=\"dataframe\">\n",
       "  <thead>\n",
       "    <tr style=\"text-align: right;\">\n",
       "      <th></th>\n",
       "      <th>Date</th>\n",
       "      <th>Open</th>\n",
       "      <th>High</th>\n",
       "      <th>Low</th>\n",
       "      <th>Close</th>\n",
       "      <th>Volume</th>\n",
       "      <th>Ticker</th>\n",
       "      <th>HighLowVolatility</th>\n",
       "      <th>HighOpenVolatility</th>\n",
       "      <th>AvgHighLowVolatility_3</th>\n",
       "      <th>AvgHighLowVolatility_7</th>\n",
       "      <th>AvgHighLowVolatility_10</th>\n",
       "      <th>NextDayHighMinusOpen</th>\n",
       "      <th>Target</th>\n",
       "    </tr>\n",
       "  </thead>\n",
       "  <tbody>\n",
       "    <tr>\n",
       "      <th>0</th>\n",
       "      <td>Dec 28, 2020</td>\n",
       "      <td>42.65</td>\n",
       "      <td>42.96</td>\n",
       "      <td>38.30</td>\n",
       "      <td>40.55</td>\n",
       "      <td>1116800</td>\n",
       "      <td>ABCL</td>\n",
       "      <td>0.108473</td>\n",
       "      <td>0.007268</td>\n",
       "      <td>0.091731</td>\n",
       "      <td>0.088553</td>\n",
       "      <td>0.121505</td>\n",
       "      <td>0.008996</td>\n",
       "      <td>0.0</td>\n",
       "    </tr>\n",
       "    <tr>\n",
       "      <th>1</th>\n",
       "      <td>Dec 29, 2020</td>\n",
       "      <td>41.13</td>\n",
       "      <td>41.50</td>\n",
       "      <td>38.00</td>\n",
       "      <td>39.00</td>\n",
       "      <td>1672000</td>\n",
       "      <td>ABCL</td>\n",
       "      <td>0.084337</td>\n",
       "      <td>0.008996</td>\n",
       "      <td>0.084528</td>\n",
       "      <td>0.080042</td>\n",
       "      <td>0.100183</td>\n",
       "      <td>0.065043</td>\n",
       "      <td>1.0</td>\n",
       "    </tr>\n",
       "    <tr>\n",
       "      <th>2</th>\n",
       "      <td>Dec 30, 2020</td>\n",
       "      <td>38.59</td>\n",
       "      <td>41.10</td>\n",
       "      <td>37.62</td>\n",
       "      <td>41.10</td>\n",
       "      <td>851300</td>\n",
       "      <td>ABCL</td>\n",
       "      <td>0.084672</td>\n",
       "      <td>0.065043</td>\n",
       "      <td>0.087268</td>\n",
       "      <td>0.084784</td>\n",
       "      <td>0.091868</td>\n",
       "      <td>0.001206</td>\n",
       "      <td>0.0</td>\n",
       "    </tr>\n",
       "    <tr>\n",
       "      <th>3</th>\n",
       "      <td>Dec 31, 2020</td>\n",
       "      <td>41.45</td>\n",
       "      <td>41.50</td>\n",
       "      <td>38.60</td>\n",
       "      <td>40.24</td>\n",
       "      <td>1201000</td>\n",
       "      <td>ABCL</td>\n",
       "      <td>0.069880</td>\n",
       "      <td>0.001206</td>\n",
       "      <td>0.086840</td>\n",
       "      <td>0.089403</td>\n",
       "      <td>0.086119</td>\n",
       "      <td>0.007500</td>\n",
       "      <td>0.0</td>\n",
       "    </tr>\n",
       "    <tr>\n",
       "      <th>4</th>\n",
       "      <td>Jan 04, 2021</td>\n",
       "      <td>40.00</td>\n",
       "      <td>40.30</td>\n",
       "      <td>38.78</td>\n",
       "      <td>39.10</td>\n",
       "      <td>1121800</td>\n",
       "      <td>ABCL</td>\n",
       "      <td>0.037717</td>\n",
       "      <td>0.007500</td>\n",
       "      <td>0.069151</td>\n",
       "      <td>0.080441</td>\n",
       "      <td>0.075691</td>\n",
       "      <td>0.017779</td>\n",
       "      <td>0.0</td>\n",
       "    </tr>\n",
       "    <tr>\n",
       "      <th>...</th>\n",
       "      <td>...</td>\n",
       "      <td>...</td>\n",
       "      <td>...</td>\n",
       "      <td>...</td>\n",
       "      <td>...</td>\n",
       "      <td>...</td>\n",
       "      <td>...</td>\n",
       "      <td>...</td>\n",
       "      <td>...</td>\n",
       "      <td>...</td>\n",
       "      <td>...</td>\n",
       "      <td>...</td>\n",
       "      <td>...</td>\n",
       "      <td>...</td>\n",
       "    </tr>\n",
       "    <tr>\n",
       "      <th>36154</th>\n",
       "      <td>Feb 19, 2021</td>\n",
       "      <td>19.82</td>\n",
       "      <td>19.82</td>\n",
       "      <td>17.47</td>\n",
       "      <td>17.91</td>\n",
       "      <td>795200</td>\n",
       "      <td>ENLV</td>\n",
       "      <td>0.118567</td>\n",
       "      <td>0.000000</td>\n",
       "      <td>0.083022</td>\n",
       "      <td>0.114912</td>\n",
       "      <td>0.131910</td>\n",
       "      <td>0.018733</td>\n",
       "      <td>0.0</td>\n",
       "    </tr>\n",
       "    <tr>\n",
       "      <th>36155</th>\n",
       "      <td>Feb 22, 2021</td>\n",
       "      <td>18.15</td>\n",
       "      <td>18.49</td>\n",
       "      <td>15.84</td>\n",
       "      <td>16.10</td>\n",
       "      <td>793300</td>\n",
       "      <td>ENLV</td>\n",
       "      <td>0.143321</td>\n",
       "      <td>0.018733</td>\n",
       "      <td>0.100947</td>\n",
       "      <td>0.101668</td>\n",
       "      <td>0.139426</td>\n",
       "      <td>0.034414</td>\n",
       "      <td>1.0</td>\n",
       "    </tr>\n",
       "    <tr>\n",
       "      <th>36156</th>\n",
       "      <td>Feb 23, 2021</td>\n",
       "      <td>15.11</td>\n",
       "      <td>15.63</td>\n",
       "      <td>13.33</td>\n",
       "      <td>15.42</td>\n",
       "      <td>836400</td>\n",
       "      <td>ENLV</td>\n",
       "      <td>0.147153</td>\n",
       "      <td>0.034414</td>\n",
       "      <td>0.124520</td>\n",
       "      <td>0.104916</td>\n",
       "      <td>0.140746</td>\n",
       "      <td>0.068538</td>\n",
       "      <td>1.0</td>\n",
       "    </tr>\n",
       "    <tr>\n",
       "      <th>36157</th>\n",
       "      <td>Feb 24, 2021</td>\n",
       "      <td>15.32</td>\n",
       "      <td>16.37</td>\n",
       "      <td>15.03</td>\n",
       "      <td>16.19</td>\n",
       "      <td>289900</td>\n",
       "      <td>ENLV</td>\n",
       "      <td>0.081857</td>\n",
       "      <td>0.068538</td>\n",
       "      <td>0.122724</td>\n",
       "      <td>0.101751</td>\n",
       "      <td>0.117421</td>\n",
       "      <td>0.038903</td>\n",
       "      <td>1.0</td>\n",
       "    </tr>\n",
       "    <tr>\n",
       "      <th>36158</th>\n",
       "      <td>Feb 25, 2021</td>\n",
       "      <td>15.68</td>\n",
       "      <td>16.29</td>\n",
       "      <td>15.00</td>\n",
       "      <td>15.11</td>\n",
       "      <td>245500</td>\n",
       "      <td>ENLV</td>\n",
       "      <td>0.079190</td>\n",
       "      <td>0.038903</td>\n",
       "      <td>0.112880</td>\n",
       "      <td>0.097951</td>\n",
       "      <td>0.101958</td>\n",
       "      <td>0.036227</td>\n",
       "      <td>1.0</td>\n",
       "    </tr>\n",
       "  </tbody>\n",
       "</table>\n",
       "<p>36159 rows × 14 columns</p>\n",
       "</div>"
      ],
      "text/plain": [
       "               Date   Open   High    Low  Close   Volume Ticker  \\\n",
       "0      Dec 28, 2020  42.65  42.96  38.30  40.55  1116800   ABCL   \n",
       "1      Dec 29, 2020  41.13  41.50  38.00  39.00  1672000   ABCL   \n",
       "2      Dec 30, 2020  38.59  41.10  37.62  41.10   851300   ABCL   \n",
       "3      Dec 31, 2020  41.45  41.50  38.60  40.24  1201000   ABCL   \n",
       "4      Jan 04, 2021  40.00  40.30  38.78  39.10  1121800   ABCL   \n",
       "...             ...    ...    ...    ...    ...      ...    ...   \n",
       "36154  Feb 19, 2021  19.82  19.82  17.47  17.91   795200   ENLV   \n",
       "36155  Feb 22, 2021  18.15  18.49  15.84  16.10   793300   ENLV   \n",
       "36156  Feb 23, 2021  15.11  15.63  13.33  15.42   836400   ENLV   \n",
       "36157  Feb 24, 2021  15.32  16.37  15.03  16.19   289900   ENLV   \n",
       "36158  Feb 25, 2021  15.68  16.29  15.00  15.11   245500   ENLV   \n",
       "\n",
       "       HighLowVolatility  HighOpenVolatility  AvgHighLowVolatility_3  \\\n",
       "0               0.108473            0.007268                0.091731   \n",
       "1               0.084337            0.008996                0.084528   \n",
       "2               0.084672            0.065043                0.087268   \n",
       "3               0.069880            0.001206                0.086840   \n",
       "4               0.037717            0.007500                0.069151   \n",
       "...                  ...                 ...                     ...   \n",
       "36154           0.118567            0.000000                0.083022   \n",
       "36155           0.143321            0.018733                0.100947   \n",
       "36156           0.147153            0.034414                0.124520   \n",
       "36157           0.081857            0.068538                0.122724   \n",
       "36158           0.079190            0.038903                0.112880   \n",
       "\n",
       "       AvgHighLowVolatility_7  AvgHighLowVolatility_10  NextDayHighMinusOpen  \\\n",
       "0                    0.088553                 0.121505              0.008996   \n",
       "1                    0.080042                 0.100183              0.065043   \n",
       "2                    0.084784                 0.091868              0.001206   \n",
       "3                    0.089403                 0.086119              0.007500   \n",
       "4                    0.080441                 0.075691              0.017779   \n",
       "...                       ...                      ...                   ...   \n",
       "36154                0.114912                 0.131910              0.018733   \n",
       "36155                0.101668                 0.139426              0.034414   \n",
       "36156                0.104916                 0.140746              0.068538   \n",
       "36157                0.101751                 0.117421              0.038903   \n",
       "36158                0.097951                 0.101958              0.036227   \n",
       "\n",
       "       Target  \n",
       "0         0.0  \n",
       "1         1.0  \n",
       "2         0.0  \n",
       "3         0.0  \n",
       "4         0.0  \n",
       "...       ...  \n",
       "36154     0.0  \n",
       "36155     1.0  \n",
       "36156     1.0  \n",
       "36157     1.0  \n",
       "36158     1.0  \n",
       "\n",
       "[36159 rows x 14 columns]"
      ]
     },
     "execution_count": 286,
     "metadata": {},
     "output_type": "execute_result"
    }
   ],
   "source": [
    "final_df"
   ]
  },
  {
   "cell_type": "code",
   "execution_count": 92,
   "id": "beginning-serum",
   "metadata": {},
   "outputs": [],
   "source": [
    "final_df.to_csv('FinalHealthCareDFTarget3.csv', index=False)"
   ]
  },
  {
   "cell_type": "code",
   "execution_count": 93,
   "id": "assumed-hunger",
   "metadata": {},
   "outputs": [],
   "source": [
    "final_df = pd.read_csv('FinalhealthCareDFTarget3.csv')\n"
   ]
  },
  {
   "cell_type": "code",
   "execution_count": 287,
   "id": "personal-handle",
   "metadata": {},
   "outputs": [
    {
     "data": {
      "text/plain": [
       "0.0    20778\n",
       "1.0    15381\n",
       "Name: Target, dtype: int64"
      ]
     },
     "execution_count": 287,
     "metadata": {},
     "output_type": "execute_result"
    }
   ],
   "source": [
    "final_df['Target'].value_counts()"
   ]
  },
  {
   "cell_type": "code",
   "execution_count": 288,
   "id": "approved-anchor",
   "metadata": {},
   "outputs": [
    {
     "data": {
      "text/plain": [
       "Target                     1.000000\n",
       "NextDayHighMinusOpen       0.397627\n",
       "AvgHighLowVolatility_7     0.285818\n",
       "AvgHighLowVolatility_3     0.282805\n",
       "AvgHighLowVolatility_10    0.280269\n",
       "HighLowVolatility          0.243508\n",
       "HighOpenVolatility         0.099114\n",
       "High                      -0.111613\n",
       "Close                     -0.119227\n",
       "Open                      -0.119499\n",
       "Low                       -0.126450\n",
       "Name: Target, dtype: float64"
      ]
     },
     "execution_count": 288,
     "metadata": {},
     "output_type": "execute_result"
    }
   ],
   "source": [
    "final_df.corr()['Target'].sort_values(ascending=False)"
   ]
  },
  {
   "cell_type": "markdown",
   "id": "heard-injury",
   "metadata": {},
   "source": [
    "The above correlations show that th AvgHighLowVolatility, HighLowVolatility, and HighOpenVolatility should have the largest impact on our prediction."
   ]
  },
  {
   "cell_type": "code",
   "execution_count": 289,
   "id": "absent-holly",
   "metadata": {},
   "outputs": [],
   "source": [
    "def split_df(df):\n",
    "    \"\"\"\n",
    "    Correctly split df into X and y sets.\n",
    "    \"\"\"\n",
    "    X = df.drop(['NextDayHighMinusOpen', 'Target', 'Date', 'Ticker'], axis=1)\n",
    "    y = df['Target']\n",
    "    \n",
    "    return X, y"
   ]
  },
  {
   "cell_type": "code",
   "execution_count": 290,
   "id": "spare-homeless",
   "metadata": {},
   "outputs": [],
   "source": [
    "X, y = split_df(final_df)\n",
    "\n",
    "X_train, X_test, y_train, y_test = train_test_split(X, y, test_size=0.1, random_state=42, stratify=y)"
   ]
  },
  {
   "cell_type": "code",
   "execution_count": 291,
   "id": "qualified-wesley",
   "metadata": {},
   "outputs": [
    {
     "data": {
      "text/plain": [
       "0.0    18700\n",
       "1.0    13843\n",
       "Name: Target, dtype: int64"
      ]
     },
     "execution_count": 291,
     "metadata": {},
     "output_type": "execute_result"
    }
   ],
   "source": [
    "y_train.value_counts()"
   ]
  },
  {
   "cell_type": "markdown",
   "id": "thick-nation",
   "metadata": {},
   "source": [
    "### Create and train logistic model"
   ]
  },
  {
   "cell_type": "code",
   "execution_count": 292,
   "id": "mathematical-party",
   "metadata": {},
   "outputs": [],
   "source": [
    "log = LogisticRegression()\n",
    "\n",
    "lognet_param_grid = {'log__C': [0.0001],\n",
    "                  'log__penalty': ['elasticnet'],\n",
    "                  'log__solver': ['saga'],\n",
    "                  'log__l1_ratio': [0.25],\n",
    "                  'log__max_iter': [10000],\n",
    "                 }\n",
    "\n",
    "log_pipe = Pipeline([\n",
    "    ('scaler', StandardScaler()),\n",
    "    ('log', log),\n",
    "])"
   ]
  },
  {
   "cell_type": "code",
   "execution_count": 300,
   "id": "early-thinking",
   "metadata": {},
   "outputs": [
    {
     "name": "stdout",
     "output_type": "stream",
     "text": [
      "Fitting 5 folds for each of 1 candidates, totalling 5 fits\n",
      "[CV] END log__C=0.0001, log__l1_ratio=0.25, log__max_iter=10000, log__penalty=elasticnet, log__solver=saga; total time=   0.0s\n",
      "[CV] END log__C=0.0001, log__l1_ratio=0.25, log__max_iter=10000, log__penalty=elasticnet, log__solver=saga; total time=   0.0s\n",
      "[CV] END log__C=0.0001, log__l1_ratio=0.25, log__max_iter=10000, log__penalty=elasticnet, log__solver=saga; total time=   0.0s\n",
      "[CV] END log__C=0.0001, log__l1_ratio=0.25, log__max_iter=10000, log__penalty=elasticnet, log__solver=saga; total time=   0.0s\n",
      "[CV] END log__C=0.0001, log__l1_ratio=0.25, log__max_iter=10000, log__penalty=elasticnet, log__solver=saga; total time=   0.0s\n"
     ]
    },
    {
     "data": {
      "text/plain": [
       "array([0.75109598])"
      ]
     },
     "execution_count": 300,
     "metadata": {},
     "output_type": "execute_result"
    }
   ],
   "source": [
    "lognet_grid = GridSearchCV(estimator=log_pipe, param_grid=lognet_param_grid, cv=5, scoring='precision', verbose=2)\n",
    "\n",
    "lognet_grid.fit(X, y)\n",
    "\n",
    "lognet_grid.cv_results_['mean_test_score']"
   ]
  },
  {
   "cell_type": "code",
   "execution_count": 294,
   "id": "unlimited-terrace",
   "metadata": {},
   "outputs": [],
   "source": [
    "final_model = lognet_grid"
   ]
  },
  {
   "cell_type": "code",
   "execution_count": 308,
   "id": "higher-cancellation",
   "metadata": {},
   "outputs": [
    {
     "data": {
      "text/plain": [
       "['FinalStockModelHealth.joblib']"
      ]
     },
     "execution_count": 308,
     "metadata": {},
     "output_type": "execute_result"
    }
   ],
   "source": [
    "dump(final_model, 'FinalStockModelHealth.joblib')"
   ]
  },
  {
   "cell_type": "code",
   "execution_count": 295,
   "id": "formal-director",
   "metadata": {},
   "outputs": [
    {
     "data": {
      "image/png": "[encoded data removed]",
      "text/plain": [
       "<Figure size 576x432 with 1 Axes>"
      ]
     },
     "metadata": {
      "needs_background": "light"
     },
     "output_type": "display_data"
    }
   ],
   "source": [
    "# Series for coefs\n",
    "\n",
    "coefs = final_model.best_estimator_['log'].coef_[0]\n",
    "\n",
    "coef_series = pd.Series(data=coefs, index=X.columns)\n",
    "\n",
    "# Plot series\n",
    "\n",
    "plt.figure(figsize=(8,6))\n",
    "\n",
    "sns.barplot(x=coef_series.index, y=coef_series.values)\n",
    "\n",
    "plt.xticks(rotation=90)\n",
    "\n",
    "plt.show()"
   ]
  },
  {
   "cell_type": "markdown",
   "id": "christian-patent",
   "metadata": {},
   "source": [
    "Unsurprisingly, our model above thinks that really, none of the data matters except the HighLowVolatility and the AvgHighLowVolatlity.\n",
    "\n",
    "We can use this to improve on the model, by finding AvgHighLowVolatility for a different amount of days."
   ]
  },
  {
   "cell_type": "code",
   "execution_count": 296,
   "id": "german-victorian",
   "metadata": {},
   "outputs": [
    {
     "name": "stdout",
     "output_type": "stream",
     "text": [
      "              precision    recall  f1-score   support\n",
      "\n",
      "         0.0       0.96      0.60      0.74     30084\n",
      "         1.0       0.13      0.73      0.22      2459\n",
      "\n",
      "    accuracy                           0.61     32543\n",
      "   macro avg       0.55      0.66      0.48     32543\n",
      "weighted avg       0.90      0.61      0.70     32543\n",
      "\n"
     ]
    }
   ],
   "source": [
    "train_preds = final_model.predict(X_train)\n",
    "\n",
    "print(classification_report(train_preds, y_train))"
   ]
  },
  {
   "cell_type": "code",
   "execution_count": 297,
   "id": "voluntary-recipe",
   "metadata": {},
   "outputs": [
    {
     "data": {
      "text/plain": [
       "<sklearn.metrics._plot.confusion_matrix.ConfusionMatrixDisplay at 0x1695b1eb910>"
      ]
     },
     "execution_count": 297,
     "metadata": {},
     "output_type": "execute_result"
    },
    {
     "data": {
      "image/png": "[encoded data removed]",
      "text/plain": [
       "<Figure size 432x288 with 2 Axes>"
      ]
     },
     "metadata": {
      "needs_background": "light"
     },
     "output_type": "display_data"
    }
   ],
   "source": [
    "plot_confusion_matrix(final_model, X_train, y_train)"
   ]
  },
  {
   "cell_type": "code",
   "execution_count": 298,
   "id": "legendary-virtue",
   "metadata": {},
   "outputs": [
    {
     "data": {
      "text/plain": [
       "<sklearn.metrics._plot.confusion_matrix.ConfusionMatrixDisplay at 0x1695b1fd7c0>"
      ]
     },
     "execution_count": 298,
     "metadata": {},
     "output_type": "execute_result"
    },
    {
     "data": {
      "image/png": "[encoded data removed]",
      "text/plain": [
       "<Figure size 432x288 with 2 Axes>"
      ]
     },
     "metadata": {
      "needs_background": "light"
     },
     "output_type": "display_data"
    }
   ],
   "source": [
    "plot_confusion_matrix(final_model, X_test, y_test)"
   ]
  },
  {
   "cell_type": "code",
   "execution_count": 299,
   "id": "metric-internet",
   "metadata": {},
   "outputs": [
    {
     "data": {
      "image/png": "[encoded data removed]",
      "text/plain": [
       "<Figure size 432x288 with 1 Axes>"
      ]
     },
     "metadata": {
      "needs_background": "light"
     },
     "output_type": "display_data"
    }
   ],
   "source": [
    "# Test avg gains given particular prob thresholds\n",
    "\n",
    "### Gathering test set data for visual\n",
    "preds_test = final_model.predict(X_test)\n",
    "preds_prob_test = final_model.predict_proba(X_test)\n",
    "preds_prob_yes_test = preds_prob_test[:,1]\n",
    "\n",
    "prob_series_test = pd.Series(index=y_test.index, data=preds_prob_yes_test)\n",
    "\n",
    "probs = np.arange(0.45, 0.66, 0.02)\n",
    "\n",
    "prob_avgs_test = []\n",
    "for prob in probs:\n",
    "    prob_series_high_test = prob_series_test[prob_series_test > prob]\n",
    "\n",
    "    idx = prob_series_high_test.index\n",
    "\n",
    "    avg = final_df.iloc[idx]['NextDayHighMinusOpen'].mean()\n",
    "    \n",
    "    prob_avgs_test.append(avg)\n",
    "    \n",
    "\n",
    "prob_avg_series_test = pd.Series(index=probs, data=prob_avgs_test)\n",
    "\n",
    "\n",
    "### Gathering training set data for visual\n",
    "preds_train = final_model.predict(X_train)\n",
    "preds_prob_train= final_model.predict_proba(X_train)\n",
    "preds_prob_yes_train = preds_prob_train[:,1]\n",
    "\n",
    "prob_series_train = pd.Series(index=y_train.index, data=preds_prob_yes_train)\n",
    "\n",
    "probs = np.arange(0.45, 0.66, 0.02)\n",
    "\n",
    "prob_avgs_train = []\n",
    "for prob in probs:\n",
    "    prob_series_high_train = prob_series_train[prob_series_train > prob]\n",
    "\n",
    "    idx = prob_series_high_train.index\n",
    "\n",
    "    avg = final_df.iloc[idx]['NextDayHighMinusOpen'].mean()\n",
    "    \n",
    "    prob_avgs_train.append(avg)\n",
    "    \n",
    "\n",
    "prob_avg_series_train = pd.Series(index=probs, data=prob_avgs_train)\n",
    "\n",
    "sns.lineplot(x=prob_avg_series_test.index, y=prob_avg_series_test.values, markers=True, label='Test Set')\n",
    "sns.lineplot(x=prob_avg_series_test.index, y=prob_avg_series_train.values, markers=True, label='Train Set')\n",
    "\n",
    "plt.legend(loc=(1.05, 0.5))\n",
    "plt.title(\"Average Increase High vs Open for Test and Train Set\")\n",
    "plt.xticks(rotation=90)\n",
    "\n",
    "plt.show()"
   ]
  },
  {
   "cell_type": "markdown",
   "id": "announced-invalid",
   "metadata": {},
   "source": [
    "### The visual above shows that, if our model predicts at least a 55% of a yes, we can expect about a 13% increase\n",
    "\n",
    "I will retrain the model on the entirety of X and y, create the same visual below, then run a simple Ttest to determine statistical significance."
   ]
  },
  {
   "cell_type": "code",
   "execution_count": 301,
   "id": "younger-louisville",
   "metadata": {},
   "outputs": [
    {
     "data": {
      "image/png": "[encoded data removed]",
      "text/plain": [
       "<Figure size 432x288 with 1 Axes>"
      ]
     },
     "metadata": {
      "needs_background": "light"
     },
     "output_type": "display_data"
    }
   ],
   "source": [
    "### Gathering data for final visual\n",
    "\n",
    "preds = final_model.predict(X)\n",
    "preds_prob= final_model.predict_proba(X)\n",
    "preds_prob_yes = preds_prob[:,1]\n",
    "\n",
    "prob_series = pd.Series(index=y.index, data=preds_prob_yes)\n",
    "\n",
    "probs = np.arange(0.36, 0.66, 0.02)\n",
    "\n",
    "prob_avgs = []\n",
    "for prob in probs:\n",
    "    prob_series_high = prob_series[prob_series > prob]\n",
    "\n",
    "    idx = prob_series_high.index\n",
    "\n",
    "    avg = final_df.iloc[idx]['NextDayHighMinusOpen'].mean()\n",
    "    \n",
    "    prob_avgs.append(avg)\n",
    "    \n",
    "\n",
    "prob_avg_series = pd.Series(index=probs, data=prob_avgs)\n",
    "sns.lineplot(x=prob_avg_series.index, y=prob_avg_series.values, markers=True, label='Expect Increase for Given Prob')\n",
    "\n",
    "plt.xticks(rotation=90)\n",
    "plt.hlines(0.10, xmin=0.34, xmax=0.7, color='green', label='y=0.10')\n",
    "plt.vlines(0.535, ymin=0.03, ymax=0.16, color='green', label='x=0.535')\n",
    "\n",
    "plt.xlabel('Probability')\n",
    "plt.ylabel('Next Day Expected Increase Over Open')\n",
    "\n",
    "prob_overall = final_df['NextDayHighMinusOpen'].mean()\n",
    "\n",
    "plt.hlines(prob_overall, xmin=0.34, xmax=0.7, label='Overall Average', color='red')\n",
    "\n",
    "plt.title(\"Expect Increase of Next Day's High Price for Given Probabilities of 'Yes' vs. Overall Average Increase\")\n",
    "plt.legend(loc=(1.05, 0.5))\n",
    "plt.show()"
   ]
  },
  {
   "cell_type": "code",
   "execution_count": 302,
   "id": "derived-uniform",
   "metadata": {},
   "outputs": [
    {
     "data": {
      "text/plain": [
       "(1372,)"
      ]
     },
     "execution_count": 302,
     "metadata": {},
     "output_type": "execute_result"
    }
   ],
   "source": [
    "# The amount of data points that have the given condition above.\n",
    "preds_prob_yes[preds_prob_yes > 0.535].shape"
   ]
  },
  {
   "cell_type": "code",
   "execution_count": 303,
   "id": "prescription-guard",
   "metadata": {},
   "outputs": [
    {
     "data": {
      "image/png": "[encoded data removed]",
      "text/plain": [
       "<Figure size 432x288 with 1 Axes>"
      ]
     },
     "metadata": {
      "needs_background": "light"
     },
     "output_type": "display_data"
    }
   ],
   "source": [
    "# Probability distribution Graph\n",
    "sns.kdeplot(x=preds_prob_yes)\n",
    "plt.title(\"Probability Distribution\")\n",
    "plt.xlabel(\"Probability\")\n",
    "plt.show()"
   ]
  },
  {
   "cell_type": "code",
   "execution_count": 304,
   "id": "hispanic-blocking",
   "metadata": {},
   "outputs": [
    {
     "data": {
      "image/png": "[encoded data removed]",
      "text/plain": [
       "<Figure size 432x288 with 1 Axes>"
      ]
     },
     "metadata": {
      "needs_background": "light"
     },
     "output_type": "display_data"
    }
   ],
   "source": [
    "# Distribution of Having Probability > 0.535 vs Overall for Increase\n",
    "\n",
    "prob_series # The series of probability of yes\n",
    "\n",
    "prob_series_high = prob_series[prob_series > 0.535]\n",
    "\n",
    "idx = prob_series_high.index\n",
    "\n",
    "next_day_high_prob = final_df.iloc[idx]['NextDayHighMinusOpen']\n",
    "next_day_no_outlier = final_df[final_df['NextDayHighMinusOpen'] < 3]['NextDayHighMinusOpen']\n",
    "\n",
    "sns.kdeplot(x=next_day_high_prob, color='blue', label='High Prob')\n",
    "sns.kdeplot(x=next_day_no_outlier, color='red', label='Regular')\n",
    "\n",
    "plt.legend(loc=(1.05, 0.5))\n",
    "\n",
    "plt.xlim(-0.01, 0.2)\n",
    "plt.show()"
   ]
  },
  {
   "cell_type": "markdown",
   "id": "separated-offer",
   "metadata": {},
   "source": [
    "The above distribution comparison shows that, picking a stock by random chance should have a much smaller growth, in general, than, picking one that has a high probability (at least 53.5%) of growing by at least 3%.\n",
    "\n",
    "I will perform a Ttest to confirm this"
   ]
  },
  {
   "cell_type": "code",
   "execution_count": 305,
   "id": "native-above",
   "metadata": {},
   "outputs": [
    {
     "data": {
      "text/plain": [
       "0.0965859136441469"
      ]
     },
     "execution_count": 305,
     "metadata": {},
     "output_type": "execute_result"
    }
   ],
   "source": [
    "sample = next_day_high_prob\n",
    "n = len(sample)\n",
    "\n",
    "sample.mean()"
   ]
  },
  {
   "cell_type": "code",
   "execution_count": 306,
   "id": "controlling-highway",
   "metadata": {},
   "outputs": [
    {
     "data": {
      "text/plain": [
       "0.037478592235920746"
      ]
     },
     "execution_count": 306,
     "metadata": {},
     "output_type": "execute_result"
    }
   ],
   "source": [
    "pop = next_day_no_outlier\n",
    "N = len(pop)\n",
    "\n",
    "pop.mean()"
   ]
  },
  {
   "cell_type": "code",
   "execution_count": 307,
   "id": "abroad-gauge",
   "metadata": {},
   "outputs": [
    {
     "name": "stdout",
     "output_type": "stream",
     "text": [
      "A one sample T-test comparing the avg from the population (entire test set) tothe sample of 'YES' from the model on the test set gives:\n",
      "\n",
      "\tStatistic: 17.712528705117723\n",
      "\tp-value: 2.2333399068713031e-63.\n"
     ]
    }
   ],
   "source": [
    "ttest_results = scipy.stats.ttest_1samp(sample, pop.mean())\n",
    "\n",
    "statistic, pvalue = ttest_results\n",
    "\n",
    "print(\"A one sample T-test comparing the avg from the population (entire test set) to\" + \n",
    "      \"the sample of 'YES' from the model on the test set gives:\" + \"\\n\\n\\t\" + \n",
    "      f\"Statistic: {statistic}\" + \"\\n\\t\" + f\"p-value: {pvalue}.\")"
   ]
  },
  {
   "cell_type": "markdown",
   "id": "moved-acceptance",
   "metadata": {},
   "source": [
    "The above p-value <<< 0.05, so our results are statistically significant, showing that, when the model predicts \"YES\" on the next day's high minus open price for a given stock to be >0.05 (5%), there is a statistically significant difference between the expected value of a \"YES\" vs the expected value of any random stock."
   ]
  }
 ],
 "metadata": {
  "kernelspec": {
   "display_name": "Python py3TF2",
   "language": "python",
   "name": "py3tf2"
  },
  "language_info": {
   "codemirror_mode": {
    "name": "ipython",
    "version": 3
   },
   "file_extension": ".py",
   "mimetype": "text/x-python",
   "name": "python",
   "nbconvert_exporter": "python",
   "pygments_lexer": "ipython3",
   "version": "3.8.5"
  }
 },
 "nbformat": 4,
 "nbformat_minor": 5
}
